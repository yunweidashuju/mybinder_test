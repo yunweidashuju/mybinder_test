{
 "cells": [
  {
   "cell_type": "code",
   "execution_count": 1,
   "metadata": {
    "ExecuteTime": {
     "end_time": "2019-04-29T00:53:23.137000Z",
     "start_time": "2019-04-29T00:53:23.074513Z"
    },
    "code_folding": []
   },
   "outputs": [],
   "source": [
    "def gen_time_list(span_unit, datetime_beg, datetime_end, datestr_format='YYYY-MM-DD HH:mm:ss'):\n",
    "    # span_unit: 'hour', 'day' ...\n",
    "    import arrow\n",
    "    if isinstance(datetime_beg, str):\n",
    "        datetime_beg = arrow.get(datetime_beg, datestr_format)\n",
    "\n",
    "    if isinstance(datetime_end, str):\n",
    "        datetime_end = arrow.get(datetime_end, datestr_format)\n",
    "\n",
    "    time_list = []\n",
    "    for tt in arrow.Arrow.range(span_unit, datetime_beg, datetime_end):\n",
    "        time_list.append(tt)\n",
    "    return time_list\n",
    "\n",
    "#help(arrow.Arrow.range)\n",
    "def datetime2datestr(date_struct, datestr_format):\n",
    "    if isinstance(datestr_format, str):\n",
    "        datestr_format = list([datestr_format])\n",
    "\n",
    "    if not isinstance(date_struct, list):\n",
    "        date_struct = list([date_struct])\n",
    "\n",
    "    datestr_list = np.empty(shape=[len(date_struct), len(datestr_format)]).tolist()\n",
    "    k = 0\n",
    "    for i_date in date_struct:\n",
    "        datestr_temp = []\n",
    "        for i_format in datestr_format:\n",
    "            datestr = i_date.format(i_format)\n",
    "            datestr_temp.append(datestr)\n",
    "        datestr_list[k][:] = datestr_temp\n",
    "        k = k + 1\n",
    "    return np.squeeze(datestr_list)"
   ]
  },
  {
   "cell_type": "code",
   "execution_count": 2,
   "metadata": {
    "ExecuteTime": {
     "end_time": "2019-04-29T00:53:23.199495Z",
     "start_time": "2019-04-29T00:53:23.152619Z"
    }
   },
   "outputs": [],
   "source": [
    "day_beg='2019-02-20'\n",
    "fcst_day_end='2019-07-20'\n",
    "datestr_format='YYYY-MM-DD'\n",
    "WRF_day_struct_list = gen_time_list('day', day_beg, fcst_day_end,datestr_format)  "
   ]
  },
  {
   "cell_type": "code",
   "execution_count": 3,
   "metadata": {
    "ExecuteTime": {
     "end_time": "2019-04-29T00:53:23.262146Z",
     "start_time": "2019-04-29T00:53:23.199495Z"
    }
   },
   "outputs": [],
   "source": [
    "for i_day in WRF_day_struct_list:\n",
    "            #print(i_hour)\n",
    "    import os\n",
    "    YY=str(i_day.format('YYYY'))\n",
    "    MM=str(i_day.format('MM'))\n",
    "    DD=str(i_day.format('DD'))\n",
    "    \n",
    "    data_source = 'WRF_STATION_SIM'\n",
    "    dir_Year=os.getcwd()+'\\\\'+data_source+'\\\\'+YY\n",
    "    #print(dir_Year)\n",
    "    dir_Month=dir_Year+'\\\\'+(YY+MM)\n",
    "    #print(dir_Month)\n",
    "    dir_Day=dir_Month+'\\\\'+(YY+MM+DD)\n",
    "    #print(dir_Day)\n",
    "    if not os.path.exists(data_source):\n",
    "        os.mkdir(data_source)\n",
    "    if not os.path.exists(dir_Year):\n",
    "        os.mkdir(dir_Year)\n",
    "    if not os.path.exists(dir_Month):\n",
    "        os.mkdir(dir_Month)\n",
    "    if not os.path.exists(dir_Day):\n",
    "        os.mkdir(dir_Day)\n",
    "    "
   ]
  },
  {
   "cell_type": "code",
   "execution_count": 4,
   "metadata": {
    "ExecuteTime": {
     "end_time": "2019-04-29T00:53:23.277632Z",
     "start_time": "2019-04-29T00:53:23.262146Z"
    }
   },
   "outputs": [],
   "source": [
    "#0428到读取day12目录下的所有文件， 而不是指定的某一个"
   ]
  },
  {
   "cell_type": "code",
   "execution_count": 5,
   "metadata": {
    "ExecuteTime": {
     "end_time": "2019-04-29T00:53:23.512114Z",
     "start_time": "2019-04-29T00:53:23.277632Z"
    }
   },
   "outputs": [
    {
     "name": "stdout",
     "output_type": "stream",
     "text": [
      "----------------------------creat new dir WRF_2D_SIM----then----generate the dir like 2019 201903  20190320 190321----------------------------\n",
      "C:\\Users\\lining\\Desktop\\myjob\\My_WRF/WRF_2D_SIM/2019/201901/2019010112\n",
      "C:\\Users\\lining\\Desktop\\myjob\\My_WRF/WRF_2D_SIM/2019/201901/2019010212\n",
      "C:\\Users\\lining\\Desktop\\myjob\\My_WRF/WRF_2D_SIM/2019/201901/2019010312\n",
      "C:\\Users\\lining\\Desktop\\myjob\\My_WRF/WRF_2D_SIM/2019/201901/2019010412\n",
      "C:\\Users\\lining\\Desktop\\myjob\\My_WRF/WRF_2D_SIM/2019/201901/2019010512\n",
      "C:\\Users\\lining\\Desktop\\myjob\\My_WRF/WRF_2D_SIM/2019/201901/2019010612\n",
      "C:\\Users\\lining\\Desktop\\myjob\\My_WRF/WRF_2D_SIM/2019/201901/2019010712\n",
      "C:\\Users\\lining\\Desktop\\myjob\\My_WRF/WRF_2D_SIM/2019/201901/2019010812\n",
      "C:\\Users\\lining\\Desktop\\myjob\\My_WRF/WRF_2D_SIM/2019/201901/2019010912\n",
      "C:\\Users\\lining\\Desktop\\myjob\\My_WRF/WRF_2D_SIM/2019/201901/2019011012\n",
      "C:\\Users\\lining\\Desktop\\myjob\\My_WRF/WRF_2D_SIM/2019/201901/2019011112\n",
      "C:\\Users\\lining\\Desktop\\myjob\\My_WRF/WRF_2D_SIM/2019/201901/2019011212\n",
      "C:\\Users\\lining\\Desktop\\myjob\\My_WRF/WRF_2D_SIM/2019/201901/2019011312\n",
      "C:\\Users\\lining\\Desktop\\myjob\\My_WRF/WRF_2D_SIM/2019/201901/2019011412\n",
      "C:\\Users\\lining\\Desktop\\myjob\\My_WRF/WRF_2D_SIM/2019/201901/2019011512\n",
      "C:\\Users\\lining\\Desktop\\myjob\\My_WRF/WRF_2D_SIM/2019/201901/2019011612\n",
      "C:\\Users\\lining\\Desktop\\myjob\\My_WRF/WRF_2D_SIM/2019/201901/2019011712\n",
      "C:\\Users\\lining\\Desktop\\myjob\\My_WRF/WRF_2D_SIM/2019/201901/2019011812\n",
      "C:\\Users\\lining\\Desktop\\myjob\\My_WRF/WRF_2D_SIM/2019/201901/2019011912\n",
      "C:\\Users\\lining\\Desktop\\myjob\\My_WRF/WRF_2D_SIM/2019/201901/2019012012\n",
      "C:\\Users\\lining\\Desktop\\myjob\\My_WRF/WRF_2D_SIM/2019/201901/2019012112\n",
      "C:\\Users\\lining\\Desktop\\myjob\\My_WRF/WRF_2D_SIM/2019/201901/2019012212\n",
      "C:\\Users\\lining\\Desktop\\myjob\\My_WRF/WRF_2D_SIM/2019/201901/2019012312\n",
      "C:\\Users\\lining\\Desktop\\myjob\\My_WRF/WRF_2D_SIM/2019/201901/2019012412\n",
      "C:\\Users\\lining\\Desktop\\myjob\\My_WRF/WRF_2D_SIM/2019/201901/2019012512\n",
      "C:\\Users\\lining\\Desktop\\myjob\\My_WRF/WRF_2D_SIM/2019/201901/2019012612\n",
      "C:\\Users\\lining\\Desktop\\myjob\\My_WRF/WRF_2D_SIM/2019/201901/2019012712\n",
      "C:\\Users\\lining\\Desktop\\myjob\\My_WRF/WRF_2D_SIM/2019/201901/2019012812\n",
      "C:\\Users\\lining\\Desktop\\myjob\\My_WRF/WRF_2D_SIM/2019/201901/2019012912\n",
      "C:\\Users\\lining\\Desktop\\myjob\\My_WRF/WRF_2D_SIM/2019/201901/2019013012\n",
      "C:\\Users\\lining\\Desktop\\myjob\\My_WRF/WRF_2D_SIM/2019/201901/2019013112\n",
      "C:\\Users\\lining\\Desktop\\myjob\\My_WRF/WRF_2D_SIM/2019/201902/2019020112\n",
      "C:\\Users\\lining\\Desktop\\myjob\\My_WRF/WRF_2D_SIM/2019/201902/2019020212\n",
      "C:\\Users\\lining\\Desktop\\myjob\\My_WRF/WRF_2D_SIM/2019/201902/2019020312\n",
      "C:\\Users\\lining\\Desktop\\myjob\\My_WRF/WRF_2D_SIM/2019/201902/2019020412\n",
      "C:\\Users\\lining\\Desktop\\myjob\\My_WRF/WRF_2D_SIM/2019/201902/2019020512\n",
      "C:\\Users\\lining\\Desktop\\myjob\\My_WRF/WRF_2D_SIM/2019/201902/2019020612\n",
      "C:\\Users\\lining\\Desktop\\myjob\\My_WRF/WRF_2D_SIM/2019/201902/2019020712\n",
      "C:\\Users\\lining\\Desktop\\myjob\\My_WRF/WRF_2D_SIM/2019/201902/2019020812\n",
      "C:\\Users\\lining\\Desktop\\myjob\\My_WRF/WRF_2D_SIM/2019/201902/2019020912\n",
      "C:\\Users\\lining\\Desktop\\myjob\\My_WRF/WRF_2D_SIM/2019/201902/2019021012\n",
      "C:\\Users\\lining\\Desktop\\myjob\\My_WRF/WRF_2D_SIM/2019/201902/2019021112\n",
      "C:\\Users\\lining\\Desktop\\myjob\\My_WRF/WRF_2D_SIM/2019/201902/2019021212\n",
      "C:\\Users\\lining\\Desktop\\myjob\\My_WRF/WRF_2D_SIM/2019/201902/2019021312\n",
      "C:\\Users\\lining\\Desktop\\myjob\\My_WRF/WRF_2D_SIM/2019/201902/2019021412\n",
      "C:\\Users\\lining\\Desktop\\myjob\\My_WRF/WRF_2D_SIM/2019/201902/2019021512\n",
      "C:\\Users\\lining\\Desktop\\myjob\\My_WRF/WRF_2D_SIM/2019/201902/2019021612\n",
      "C:\\Users\\lining\\Desktop\\myjob\\My_WRF/WRF_2D_SIM/2019/201902/2019021712\n",
      "C:\\Users\\lining\\Desktop\\myjob\\My_WRF/WRF_2D_SIM/2019/201902/2019021812\n",
      "C:\\Users\\lining\\Desktop\\myjob\\My_WRF/WRF_2D_SIM/2019/201902/2019021912\n",
      "C:\\Users\\lining\\Desktop\\myjob\\My_WRF/WRF_2D_SIM/2019/201902/2019022012\n",
      "C:\\Users\\lining\\Desktop\\myjob\\My_WRF/WRF_2D_SIM/2019/201902/2019022112\n",
      "C:\\Users\\lining\\Desktop\\myjob\\My_WRF/WRF_2D_SIM/2019/201902/2019022212\n",
      "C:\\Users\\lining\\Desktop\\myjob\\My_WRF/WRF_2D_SIM/2019/201902/2019022312\n",
      "C:\\Users\\lining\\Desktop\\myjob\\My_WRF/WRF_2D_SIM/2019/201902/2019022412\n",
      "C:\\Users\\lining\\Desktop\\myjob\\My_WRF/WRF_2D_SIM/2019/201902/2019022512\n",
      "C:\\Users\\lining\\Desktop\\myjob\\My_WRF/WRF_2D_SIM/2019/201902/2019022612\n",
      "C:\\Users\\lining\\Desktop\\myjob\\My_WRF/WRF_2D_SIM/2019/201902/2019022712\n",
      "C:\\Users\\lining\\Desktop\\myjob\\My_WRF/WRF_2D_SIM/2019/201902/2019022812\n",
      "C:\\Users\\lining\\Desktop\\myjob\\My_WRF/WRF_2D_SIM/2019/201903/2019030112\n",
      "C:\\Users\\lining\\Desktop\\myjob\\My_WRF/WRF_2D_SIM/2019/201903/2019030212\n",
      "C:\\Users\\lining\\Desktop\\myjob\\My_WRF/WRF_2D_SIM/2019/201903/2019030312\n",
      "C:\\Users\\lining\\Desktop\\myjob\\My_WRF/WRF_2D_SIM/2019/201903/2019030412\n",
      "C:\\Users\\lining\\Desktop\\myjob\\My_WRF/WRF_2D_SIM/2019/201903/2019030512\n",
      "C:\\Users\\lining\\Desktop\\myjob\\My_WRF/WRF_2D_SIM/2019/201903/2019030612\n",
      "C:\\Users\\lining\\Desktop\\myjob\\My_WRF/WRF_2D_SIM/2019/201903/2019030712\n",
      "C:\\Users\\lining\\Desktop\\myjob\\My_WRF/WRF_2D_SIM/2019/201903/2019030812\n",
      "C:\\Users\\lining\\Desktop\\myjob\\My_WRF/WRF_2D_SIM/2019/201903/2019030912\n",
      "C:\\Users\\lining\\Desktop\\myjob\\My_WRF/WRF_2D_SIM/2019/201903/2019031012\n",
      "C:\\Users\\lining\\Desktop\\myjob\\My_WRF/WRF_2D_SIM/2019/201903/2019031112\n",
      "C:\\Users\\lining\\Desktop\\myjob\\My_WRF/WRF_2D_SIM/2019/201903/2019031212\n",
      "C:\\Users\\lining\\Desktop\\myjob\\My_WRF/WRF_2D_SIM/2019/201903/2019031312\n",
      "C:\\Users\\lining\\Desktop\\myjob\\My_WRF/WRF_2D_SIM/2019/201903/2019031412\n",
      "C:\\Users\\lining\\Desktop\\myjob\\My_WRF/WRF_2D_SIM/2019/201903/2019031512\n",
      "C:\\Users\\lining\\Desktop\\myjob\\My_WRF/WRF_2D_SIM/2019/201903/2019031612\n",
      "C:\\Users\\lining\\Desktop\\myjob\\My_WRF/WRF_2D_SIM/2019/201903/2019031712\n",
      "C:\\Users\\lining\\Desktop\\myjob\\My_WRF/WRF_2D_SIM/2019/201903/2019031812\n",
      "C:\\Users\\lining\\Desktop\\myjob\\My_WRF/WRF_2D_SIM/2019/201903/2019031912\n",
      "C:\\Users\\lining\\Desktop\\myjob\\My_WRF/WRF_2D_SIM/2019/201903/2019032012\n",
      "C:\\Users\\lining\\Desktop\\myjob\\My_WRF/WRF_2D_SIM/2019/201903/2019032112\n",
      "C:\\Users\\lining\\Desktop\\myjob\\My_WRF/WRF_2D_SIM/2019/201903/2019032212\n",
      "C:\\Users\\lining\\Desktop\\myjob\\My_WRF/WRF_2D_SIM/2019/201903/2019032312\n",
      "C:\\Users\\lining\\Desktop\\myjob\\My_WRF/WRF_2D_SIM/2019/201903/2019032412\n",
      "C:\\Users\\lining\\Desktop\\myjob\\My_WRF/WRF_2D_SIM/2019/201903/2019032512\n",
      "C:\\Users\\lining\\Desktop\\myjob\\My_WRF/WRF_2D_SIM/2019/201903/2019032612\n",
      "C:\\Users\\lining\\Desktop\\myjob\\My_WRF/WRF_2D_SIM/2019/201903/2019032712\n",
      "C:\\Users\\lining\\Desktop\\myjob\\My_WRF/WRF_2D_SIM/2019/201903/2019032812\n",
      "C:\\Users\\lining\\Desktop\\myjob\\My_WRF/WRF_2D_SIM/2019/201903/2019032912\n",
      "C:\\Users\\lining\\Desktop\\myjob\\My_WRF/WRF_2D_SIM/2019/201903/2019033012\n",
      "C:\\Users\\lining\\Desktop\\myjob\\My_WRF/WRF_2D_SIM/2019/201903/2019033112\n",
      "C:\\Users\\lining\\Desktop\\myjob\\My_WRF/WRF_2D_SIM/2019/201904/2019040112\n",
      "C:\\Users\\lining\\Desktop\\myjob\\My_WRF/WRF_2D_SIM/2019/201904/2019040212\n",
      "C:\\Users\\lining\\Desktop\\myjob\\My_WRF/WRF_2D_SIM/2019/201904/2019040312\n",
      "C:\\Users\\lining\\Desktop\\myjob\\My_WRF/WRF_2D_SIM/2019/201904/2019040412\n",
      "C:\\Users\\lining\\Desktop\\myjob\\My_WRF/WRF_2D_SIM/2019/201904/2019040512\n",
      "C:\\Users\\lining\\Desktop\\myjob\\My_WRF/WRF_2D_SIM/2019/201904/2019040612\n",
      "C:\\Users\\lining\\Desktop\\myjob\\My_WRF/WRF_2D_SIM/2019/201904/2019040712\n",
      "C:\\Users\\lining\\Desktop\\myjob\\My_WRF/WRF_2D_SIM/2019/201904/2019040812\n",
      "C:\\Users\\lining\\Desktop\\myjob\\My_WRF/WRF_2D_SIM/2019/201904/2019040912\n",
      "C:\\Users\\lining\\Desktop\\myjob\\My_WRF/WRF_2D_SIM/2019/201904/2019041012\n",
      "C:\\Users\\lining\\Desktop\\myjob\\My_WRF/WRF_2D_SIM/2019/201904/2019041112\n",
      "C:\\Users\\lining\\Desktop\\myjob\\My_WRF/WRF_2D_SIM/2019/201904/2019041212\n",
      "C:\\Users\\lining\\Desktop\\myjob\\My_WRF/WRF_2D_SIM/2019/201904/2019041312\n",
      "C:\\Users\\lining\\Desktop\\myjob\\My_WRF/WRF_2D_SIM/2019/201904/2019041412\n",
      "C:\\Users\\lining\\Desktop\\myjob\\My_WRF/WRF_2D_SIM/2019/201904/2019041512\n",
      "C:\\Users\\lining\\Desktop\\myjob\\My_WRF/WRF_2D_SIM/2019/201904/2019041612\n",
      "C:\\Users\\lining\\Desktop\\myjob\\My_WRF/WRF_2D_SIM/2019/201904/2019041712\n",
      "C:\\Users\\lining\\Desktop\\myjob\\My_WRF/WRF_2D_SIM/2019/201904/2019041812\n",
      "C:\\Users\\lining\\Desktop\\myjob\\My_WRF/WRF_2D_SIM/2019/201904/2019041912\n",
      "C:\\Users\\lining\\Desktop\\myjob\\My_WRF/WRF_2D_SIM/2019/201904/2019042012\n",
      "C:\\Users\\lining\\Desktop\\myjob\\My_WRF/WRF_2D_SIM/2019/201904/2019042112\n",
      "C:\\Users\\lining\\Desktop\\myjob\\My_WRF/WRF_2D_SIM/2019/201904/2019042212\n",
      "C:\\Users\\lining\\Desktop\\myjob\\My_WRF/WRF_2D_SIM/2019/201904/2019042312\n",
      "C:\\Users\\lining\\Desktop\\myjob\\My_WRF/WRF_2D_SIM/2019/201904/2019042412\n",
      "C:\\Users\\lining\\Desktop\\myjob\\My_WRF/WRF_2D_SIM/2019/201904/2019042512\n",
      "C:\\Users\\lining\\Desktop\\myjob\\My_WRF/WRF_2D_SIM/2019/201904/2019042612\n"
     ]
    }
   ],
   "source": [
    "print('----------------------------creat new dir WRF_2D_SIM----then----generate the dir like 2019 201903  20190320 190321----------------------------')\n",
    "day_beg='2019-01-01'\n",
    "fcst_day_end='2019-04-26'\n",
    "datestr_format='YYYY-MM-DD'\n",
    "WRF_day_struct_list = gen_time_list('day', day_beg, fcst_day_end,datestr_format)  \n",
    "\n",
    "for i_day in WRF_day_struct_list:\n",
    "    import os\n",
    "    YY=str(i_day.format('YYYY'))\n",
    "    MM=str(i_day.format('MM'))\n",
    "    DD=str(i_day.format('DD'))\n",
    "    \n",
    "    data_source = 'WRF_2D_SIM'\n",
    "    dir_Year=os.getcwd()+'/'+data_source+'/'+YY\n",
    "    #print(dir_Year)\n",
    "    dir_Month=dir_Year+'/'+(YY+MM)\n",
    "    #print(dir_Month)\n",
    "    dir_Day=dir_Month+'/'+(YY+MM+DD)+'12'\n",
    "    print(dir_Day)\n",
    "    import os\n",
    "    if not os.path.exists(data_source):\n",
    "        os.mkdir(data_source)\n",
    "    if not os.path.exists(dir_Year):\n",
    "        os.mkdir(dir_Year)\n",
    "    if not os.path.exists(dir_Month):\n",
    "        os.mkdir(dir_Month)\n",
    "    if not os.path.exists(dir_Day):\n",
    "        os.mkdir(dir_Day)"
   ]
  },
  {
   "cell_type": "code",
   "execution_count": 6,
   "metadata": {
    "ExecuteTime": {
     "end_time": "2019-04-29T00:53:23.527532Z",
     "start_time": "2019-04-29T00:53:23.512114Z"
    }
   },
   "outputs": [
    {
     "name": "stdout",
     "output_type": "stream",
     "text": [
      "['.ipynb_checkpoints', '.vscode', '0417  单个文件衍生变量.ipynb', '0420 上午 单个文件衍生变量  wrong.ipynb', '0420 下午单个文件衍生变量 wrong.ipynb', '0422 下午对所有变量进行垂向插值-ght_agl  ok.ipynb', '0422 下午对所有变量进行垂向插值.ipynb', '0423 下午对所有变量进行垂向插值-uselsess.ipynb', '0423 下午对所有变量进行垂向插值pressure_OK.ipynb', '0424 下午对所有变量进行垂向插值pressure_修改温度.ipynb', '0424 晚上 使用wrfpython 提取正确的变量  对所有变量进行垂向外插值pressure_.ipynb', '0425 上午使用wrfpython 提取正确的变量  ,读取二维.ipynb', '0425 晚上使用wrfpython 提取正确的变量  ,读取二维-去除兰伯特投影-.ipynb', '0425 晚上使用wrfpython 提取正确的变量  ,读取二维-去除兰伯特投影.ipynb', '0426 处理 自己保存的数据   如何把多个特征的二维数据堆积在一起.ipynb', '0428 插值高度、等压面 只保存二维 ok.ipynb', '0428 晚上使用wrfpython 提取正确的变量  ,读取二维-去除兰伯特投影.ipynb', '2019-02-20_20_00_00.nc', 'before.nc', 'CNN  提取二维特征0414.ipynb', 'CNN2维度输入 tensorflow.ipynb', 'CNN_numpy.py', 'CNN_NUMPY0411晚上.ipynb', 'CNN_tf_Classification0417', 'cnn数字分类.ipynb', 'crontab_jobs', 'download.cron.txt', 'download.smoke.cron.txt', 'downloal_EC', 'draw_WRF', 'ee.nc', 'extract_wrf_hourly_matlab', 'find_wrf_initfile0416.sh', 'ftp_data_1p00.cron.txt', 'gsi_run', 'hunan_stn_list.txt', 'loop_read2d.nc', 'metlib_doc', 'MNIST_data', 'pcolor.ipynb', 'ra.nc', 'rr.nc', 'savedondisk.nc', 'simple_read_nc.py', 'study_reda_nc.py', 'temp', 'test.py', 'tf+conv+pooling.ipynb', 'tt.nc', 'Untitled.ipynb', 'Untitled1.ipynb', 'Untitled2.ipynb', 'Untitled3.ipynb', 'Untitled4.ipynb', 'update_cgrid.py', 'uu.nc', 'wrf-code', 'wrf-code.zip', 'wrfout_d01_2019-03-27_20_00_00', 'wrfout_d01_2019-03-27_21_00_00', 'wrfout_d01_2019-03-27_22_00_00', 'wrfout_d01_2019-03-27_23_00_00', 'wrfout_d01_2019-03-27_24_00_00', 'wrfout_d03_2019-04-23_04_00_00', 'wrfout_d03_2019-04-26_12_00_00', 'WRFUtil_v2', 'WRF_2D_SIM', 'wrf_run0416.sh', 'wrf_run0416.txt', 'WRF_STATION_SIM', 'write_position.py', 'WTHR_STATION_2019-04-23_04_00_00.csv', 'xarray_read_wrfoutput.ipynb', '单个读取WRF 二维数据并合并多个特征0411OK.ipynb', '卷积自编码器.ipynb', '多个读取WRF 二维0411-下午 累加各个时刻OK.ipynb', '多个读取WRF 二维0411.ipynb', '学习grib.ipynb', '文件列表迭代器.ipynb', '根据索引获取指定变量 函数 -0331 .ipynb', '检查reshape 结果.ipynb', '生成日期递进目录0423.ipynb', '编写 gen_wrf.ipynb', '编写position 函数   不对，  输入的格点lat  和lon  应该是wrf中的二维,不是 站点中的一维.ipynb', '编写position 函数 -OK 0330.ipynb', '自定义2d卷积核 并basemappcolor-0424-Copy1.ipynb', '自定义2d卷积核 并basemappcolor-0424.ipynb', '获取单个时刻多个站点的 的 特征量0401上午-ok.ipynb', '获取单个时刻多个站点的 的 特征量0401下午-ok-.ipynb', '获取单个时刻多个站点的 的 特征量0402上午.ipynb', '获取单个时刻多个站点的 的 特征量0402晚上.ipynb', '获取单个时刻多个站点的 的 特征量0403 下午ok-整理.html', '获取单个时刻多个站点的 的 特征量0403 下午ok-整理.ipynb', '获取单个时刻多个站点的 的 特征量0403 下午ok.ipynb', '获取单个时刻多个站点的 的 特征量0403 晚上   也可以读取三维数据 ok.ipynb', '获取多个时刻多个站点的 的 特征量0404上午.ipynb', '获取多个时刻多个站点的 的 特征量0404下午to3D ok-Copy1.ipynb', '获取多个时刻多个站点的 的 特征量0404下午to3D ok.ipynb', '获取多个时刻多个站点的 的 特征量0408下午to3D 区分3维变量的经纬度-Copy1.ipynb', '获取多个时刻多个站点的 的 特征量0408下午to3D 区分3维变量的经纬度uv 暂停.ipynb', '获取多个时刻多个站点的 的 特征量0409 使用wrfpython destaggerOK-Copy1.ipynb', '获取多个时刻多个站点的 的 特征量0409 使用wrfpython destaggerOK.ipynb', '获取多个时刻多个站点的 的 特征量0416 使用wrfpython 插值.ipynb', '获取多个站点的 的 特征量.ipynb']\n",
      "['wrfout_d03_2019-04-23_04_00_00', 'wrfout_d03_2019-04-26_12_00_00']\n"
     ]
    }
   ],
   "source": [
    "import os\n",
    "file_dir='C:\\\\Users\\\\lining\\\\Desktop\\\\myjob\\\\My_WRF'\n",
    "files_name = os.listdir(file_dir)\n",
    "print(files_name)\n",
    "d03_list=[]\n",
    "for each in  files_name:\n",
    "    if 'wrfout_d03' in each:\n",
    "        d03_list.append(each)\n",
    "print(d03_list)"
   ]
  },
  {
   "cell_type": "code",
   "execution_count": 7,
   "metadata": {
    "ExecuteTime": {
     "end_time": "2019-04-29T00:53:23.558774Z",
     "start_time": "2019-04-29T00:53:23.527532Z"
    }
   },
   "outputs": [
    {
     "data": {
      "text/plain": [
       "['wrfout_d03_2019-04-23_04_00_00', 'wrfout_d03_2019-04-26_12_00_00']"
      ]
     },
     "execution_count": 7,
     "metadata": {},
     "output_type": "execute_result"
    }
   ],
   "source": [
    "d03_list"
   ]
  },
  {
   "cell_type": "code",
   "execution_count": 9,
   "metadata": {
    "ExecuteTime": {
     "end_time": "2019-04-29T00:57:13.500801Z",
     "start_time": "2019-04-29T00:57:13.485205Z"
    }
   },
   "outputs": [],
   "source": [
    "import os\n",
    "#当前文件的路径\n",
    "pwd = os.getcwd()\n",
    "#当前文件的父路径\n",
    "father_path=os.path.abspath(os.path.dirname(pwd)+os.path.sep+\".\")\n",
    "#当前文件的前两级目录\n",
    "grader_father=os.path.abspath(os.path.dirname(pwd)+os.path.sep+\"..\")"
   ]
  },
  {
   "cell_type": "code",
   "execution_count": 10,
   "metadata": {
    "ExecuteTime": {
     "end_time": "2019-04-29T00:57:35.413137Z",
     "start_time": "2019-04-29T00:57:35.381896Z"
    }
   },
   "outputs": [
    {
     "data": {
      "text/plain": [
       "'C:\\\\Users\\\\lining\\\\Desktop'"
      ]
     },
     "execution_count": 10,
     "metadata": {},
     "output_type": "execute_result"
    }
   ],
   "source": [
    "grader_father"
   ]
  },
  {
   "cell_type": "code",
   "execution_count": 8,
   "metadata": {
    "ExecuteTime": {
     "end_time": "2019-04-29T00:53:23.574397Z",
     "start_time": "2019-04-29T00:53:23.558774Z"
    }
   },
   "outputs": [
    {
     "name": "stdout",
     "output_type": "stream",
     "text": [
      "2019\n",
      "2019/201904\n",
      "2019/201904/20190423\n"
     ]
    }
   ],
   "source": [
    "fl_date='2019-04-23_04_00_00'\n",
    "dir_year=fl_date[0:4]\n",
    "print(dir_year)\n",
    "dir_month=dir_year+'/'+dir_year+fl_date[5:7]\n",
    "print(dir_month)\n",
    "dir_day=dir_month+'/'+fl_date[0:4]+fl_date[5:7]+fl_date[8:10]\n",
    "print(dir_day)"
   ]
  },
  {
   "cell_type": "code",
   "execution_count": 11,
   "metadata": {
    "ExecuteTime": {
     "end_time": "2019-04-29T01:04:31.341363Z",
     "start_time": "2019-04-29T01:04:31.310121Z"
    }
   },
   "outputs": [],
   "source": []
  },
  {
   "cell_type": "code",
   "execution_count": 29,
   "metadata": {
    "ExecuteTime": {
     "end_time": "2019-04-29T01:24:19.840606Z",
     "start_time": "2019-04-29T01:24:19.824982Z"
    }
   },
   "outputs": [
    {
     "name": "stdout",
     "output_type": "stream",
     "text": [
      "2019042304\n"
     ]
    }
   ],
   "source": [
    "import arrow\n",
    "aa=arrow.get('/public/home/pathop/wrffc/data/wrf/2018/201812/2018121212/wrfout_d03_2019-04-23_04_00_00','YYYY-MM-DD_HH_mm_ss') #wrfout_d02_\n",
    "print(aa.format('YYYYMMDDHH'))"
   ]
  },
  {
   "cell_type": "code",
   "execution_count": 31,
   "metadata": {
    "ExecuteTime": {
     "end_time": "2019-04-29T01:24:33.406492Z",
     "start_time": "2019-04-29T01:24:33.390871Z"
    }
   },
   "outputs": [
    {
     "name": "stdout",
     "output_type": "stream",
     "text": [
      "2019042312\n"
     ]
    }
   ],
   "source": [
    "bb=aa.to('+08:00')\n",
    "print(bb.format('YYYYMMDDHH'))"
   ]
  },
  {
   "cell_type": "code",
   "execution_count": 34,
   "metadata": {
    "ExecuteTime": {
     "end_time": "2019-04-29T02:03:13.058901Z",
     "start_time": "2019-04-29T02:03:13.043313Z"
    }
   },
   "outputs": [
    {
     "name": "stdout",
     "output_type": "stream",
     "text": [
      "2019-03-27_09:00:00\n"
     ]
    }
   ],
   "source": [
    "date_beg= '2019-03-27_01:00:00'\n",
    "\n",
    "fcst_date_end='2019-04-26'\n",
    "datestr_format='YYYY-MM-DD_HH:mm:ss'\n",
    "\n",
    "date_beg_BJ=arrow.get(date_beg,datestr_format).to('+08:00').format(datestr_format)\n",
    "print(date_beg_BJ)"
   ]
  },
  {
   "cell_type": "code",
   "execution_count": 36,
   "metadata": {
    "ExecuteTime": {
     "end_time": "2019-04-29T07:16:26.816646Z",
     "start_time": "2019-04-29T07:16:26.801025Z"
    }
   },
   "outputs": [
    {
     "name": "stdout",
     "output_type": "stream",
     "text": [
      "2019-04-25T00:00:00+00:00\n"
     ]
    }
   ],
   "source": [
    "\n",
    "date_beg_BJ=arrow.get('2019042512','YYYYMMDD12')#.to('+08:00').format(datestr_format)\n",
    "print(date_beg_BJ)"
   ]
  },
  {
   "cell_type": "code",
   "execution_count": 45,
   "metadata": {
    "ExecuteTime": {
     "end_time": "2019-05-02T01:53:41.519301Z",
     "start_time": "2019-05-02T01:53:41.504340Z"
    }
   },
   "outputs": [
    {
     "ename": "SyntaxError",
     "evalue": "invalid syntax (<ipython-input-45-fe6d911f19de>, line 10)",
     "output_type": "error",
     "traceback": [
      "\u001b[1;36m  File \u001b[1;32m\"<ipython-input-45-fe6d911f19de>\"\u001b[1;36m, line \u001b[1;32m10\u001b[0m\n\u001b[1;33m    return time_list\u001b[0m\n\u001b[1;37m         ^\u001b[0m\n\u001b[1;31mSyntaxError\u001b[0m\u001b[1;31m:\u001b[0m invalid syntax\n"
     ]
    }
   ],
   "source": [
    "def get_yymmdd_dir(str_with_date,str_format='YYYYMMDD12',former_dir,tail_name='20'):\n",
    "    import arrow\n",
    "    dir_date_arrow=arrow.get(str_with_date,str_format)#.to('+08:00').format(datestr_format)\n",
    "    YY=str(dir_date_arrow.format('YYYY'))\n",
    "    MM=str(dir_date_arrow.format('MM'))\n",
    "    DD=str(dir_date_arrow.format('DD'))\n",
    "    AIM_dir_Year=former_dir+'/'+YY\n",
    "    AIM_dir_Month=AIM_dir_Year+'/'+(YY+MM)\n",
    "    AIM_dir_Day=AIM_dir_Month+'/'+(YY+MM+DD+'20'\n",
    "    return time_list"
   ]
  },
  {
   "cell_type": "code",
   "execution_count": 7,
   "metadata": {
    "ExecuteTime": {
     "end_time": "2019-05-02T09:33:37.535645Z",
     "start_time": "2019-05-02T09:33:37.526669Z"
    }
   },
   "outputs": [],
   "source": [
    "def get_yymmdd_dir(former_dir,str_with_date,str_format='YYYYMMDD12',tail_name='20'):\n",
    "    # span_unit: 'hour', 'day' ...\n",
    "    '''\n",
    "    data_source = 'WRF_d02_2D_SIM'\n",
    "    AIM_DIR='/public/home/pathop/statistics_forecasting_CNN/'+data_source\n",
    "    former_dir=AIM_DIR\n",
    "    str_with_date='/public/home/pathop/statistics_forecasting_CNN/WRF_d02_2D_SIM/2019/201901/2019013112/WTHR_2D_2019020301.nc'\n",
    "    '''\n",
    "    import arrow\n",
    "    \n",
    "    dir_date_arrow=arrow.get(str_with_date,str_format)#.to('+08:00').format(datestr_format)\n",
    "    YY=str(dir_date_arrow.format('YYYY'))\n",
    "    MM=str(dir_date_arrow.format('MM'))\n",
    "    DD=str(dir_date_arrow.format('DD'))\n",
    "    AIM_dir_Year=former_dir+'/'+YY\n",
    "    AIM_dir_Month=AIM_dir_Year+'/'+(YY+MM)\n",
    "    AIM_dir_Day=AIM_dir_Month+'/'+(YY+MM+DD+tail_name)\n",
    "    return AIM_dir_Day"
   ]
  },
  {
   "cell_type": "code",
   "execution_count": 9,
   "metadata": {
    "ExecuteTime": {
     "end_time": "2019-05-02T09:34:29.228417Z",
     "start_time": "2019-05-02T09:34:29.223430Z"
    }
   },
   "outputs": [
    {
     "data": {
      "text/plain": [
       "'/2019/201901/2019013120'"
      ]
     },
     "execution_count": 9,
     "metadata": {},
     "output_type": "execute_result"
    }
   ],
   "source": [
    "former_dir=''\n",
    "str_with_date='/public/home/pathop/statistics_forecasting_CNN/WRF_d02_2D_SIM/2019/201901/2019013112/WTHR_2D_2019020301.nc'\n",
    "get_yymmdd_dir(former_dir,str_with_date,str_format='YYYYMMDD12',tail_name='20')"
   ]
  },
  {
   "cell_type": "code",
   "execution_count": 38,
   "metadata": {
    "ExecuteTime": {
     "end_time": "2019-05-02T01:46:19.275104Z",
     "start_time": "2019-05-02T01:46:19.259480Z"
    }
   },
   "outputs": [
    {
     "data": {
      "text/plain": [
       "4.444444444444445"
      ]
     },
     "execution_count": 38,
     "metadata": {},
     "output_type": "execute_result"
    }
   ],
   "source": [
    "800/60/3"
   ]
  },
  {
   "cell_type": "code",
   "execution_count": null,
   "metadata": {},
   "outputs": [],
   "source": []
  }
 ],
 "metadata": {
  "kernelspec": {
   "display_name": "Python 3",
   "language": "python",
   "name": "python3"
  },
  "language_info": {
   "codemirror_mode": {
    "name": "ipython",
    "version": 3
   },
   "file_extension": ".py",
   "mimetype": "text/x-python",
   "name": "python",
   "nbconvert_exporter": "python",
   "pygments_lexer": "ipython3",
   "version": "3.6.4"
  },
  "varInspector": {
   "cols": {
    "lenName": 16,
    "lenType": 16,
    "lenVar": 40
   },
   "kernels_config": {
    "python": {
     "delete_cmd_postfix": "",
     "delete_cmd_prefix": "del ",
     "library": "var_list.py",
     "varRefreshCmd": "print(var_dic_list())"
    },
    "r": {
     "delete_cmd_postfix": ") ",
     "delete_cmd_prefix": "rm(",
     "library": "var_list.r",
     "varRefreshCmd": "cat(var_dic_list()) "
    }
   },
   "types_to_exclude": [
    "module",
    "function",
    "builtin_function_or_method",
    "instance",
    "_Feature"
   ],
   "window_display": false
  }
 },
 "nbformat": 4,
 "nbformat_minor": 2
}
